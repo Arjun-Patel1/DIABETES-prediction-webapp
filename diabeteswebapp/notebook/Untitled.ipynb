{
 "cells": [
  {
   "cell_type": "code",
   "execution_count": 3,
   "id": "cdbaa630-f178-4c7c-9b6e-332eba3a9d59",
   "metadata": {},
   "outputs": [
    {
     "name": "stdout",
     "output_type": "stream",
     "text": [
      "✅ Model saved successfully!\n"
     ]
    }
   ],
   "source": [
    "# diabetes_training.ipynb\n",
    "import pandas as pd\n",
    "from sklearn.model_selection import train_test_split\n",
    "from sklearn.preprocessing import StandardScaler\n",
    "from sklearn.svm import SVC\n",
    "import pickle\n",
    "\n",
    "# 1. Load dataset\n",
    "data = pd.read_csv(\"C:/Users/arjun/Downloads/diabetes.csv\")\n",
    "\n",
    "# 2. Split\n",
    "X = data.drop(\"Outcome\", axis=1)\n",
    "y = data[\"Outcome\"]\n",
    "X_train, X_test, y_train, y_test = train_test_split(X, y, test_size=0.2, random_state=42)\n",
    "\n",
    "# 3. Preprocess\n",
    "scaler = StandardScaler()\n",
    "X_train_scaled = scaler.fit_transform(X_train)\n",
    "X_test_scaled = scaler.transform(X_test)\n",
    "\n",
    "# 4. Train model\n",
    "model = SVC(probability=True)\n",
    "model.fit(X_train_scaled, y_train)\n",
    "import pickle\n",
    "import os\n",
    "\n",
    "# ✅ Create folder if it doesn't exist\n",
    "os.makedirs(\"../model\", exist_ok=True)\n",
    "\n",
    "# ✅ Save the trained model and scaler together\n",
    "with open(\"../model/diabetes_model.pkl\", \"wb\") as f:\n",
    "    pickle.dump((model, scaler), f)\n",
    "\n",
    "print(\"✅ Model saved successfully!\")\n",
    "\n",
    "\n",
    "# 5. Save model and scaler\n",
    "with open(\"../model/diabetes_model.pkl\", \"wb\") as f:\n",
    "    pickle.dump((model, scaler), f)\n"
   ]
  }
 ],
 "metadata": {
  "kernelspec": {
   "display_name": "Python [conda env:base] *",
   "language": "python",
   "name": "conda-base-py"
  },
  "language_info": {
   "codemirror_mode": {
    "name": "ipython",
    "version": 3
   },
   "file_extension": ".py",
   "mimetype": "text/x-python",
   "name": "python",
   "nbconvert_exporter": "python",
   "pygments_lexer": "ipython3",
   "version": "3.12.7"
  }
 },
 "nbformat": 4,
 "nbformat_minor": 5
}
